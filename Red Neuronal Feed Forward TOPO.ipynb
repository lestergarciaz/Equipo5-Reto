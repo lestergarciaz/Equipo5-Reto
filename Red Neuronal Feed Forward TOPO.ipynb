{
 "cells": [
  {
   "cell_type": "markdown",
   "id": "e2d0216f",
   "metadata": {},
   "source": [
    "# Cargamos las librerias"
   ]
  },
  {
   "cell_type": "code",
   "execution_count": 1,
   "id": "4b23af55",
   "metadata": {},
   "outputs": [
    {
     "name": "stderr",
     "output_type": "stream",
     "text": [
      "2023-06-02 15:35:24.362019: I tensorflow/core/platform/cpu_feature_guard.cc:182] This TensorFlow binary is optimized to use available CPU instructions in performance-critical operations.\n",
      "To enable the following instructions: AVX2 AVX512F AVX512_VNNI FMA, in other operations, rebuild TensorFlow with the appropriate compiler flags.\n"
     ]
    }
   ],
   "source": [
    "import pandas as pd\n",
    "import numpy as np\n",
    "import matplotlib.pylab as plt\n",
    "%matplotlib inline\n",
    "plt.rcParams['figure.figsize'] = (16, 9)\n",
    "plt.style.use('fast')\n",
    "from keras.models import Sequential\n",
    "from keras.layers import Dense,Activation,Flatten,LSTM\n",
    "from sklearn.preprocessing import MinMaxScaler\n",
    "from sklearn.metrics import confusion_matrix\n",
    "from sklearn.metrics import precision_score, recall_score, f1_score, accuracy_score\n",
    "import plotly.graph_objects as go\n",
    "import plotly.io as pio\n",
    "pio.renderers.default = 'browser'"
   ]
  },
  {
   "cell_type": "markdown",
   "id": "467b7d7e",
   "metadata": {},
   "source": [
    "# Cargamos el dataset"
   ]
  },
  {
   "cell_type": "code",
   "execution_count": 2,
   "id": "016c36a3",
   "metadata": {},
   "outputs": [],
   "source": [
    "# Carga tus datos en un DataFrame\n",
    "output = pd.read_csv('sstoi.indices.csv')"
   ]
  },
  {
   "cell_type": "code",
   "execution_count": 3,
   "id": "00400e4c",
   "metadata": {},
   "outputs": [],
   "source": [
    "df = output"
   ]
  },
  {
   "cell_type": "code",
   "execution_count": 4,
   "id": "37a07a72",
   "metadata": {},
   "outputs": [],
   "source": [
    "dfNO3 = df[['YR M','ON  N','NO3.4']]"
   ]
  },
  {
   "cell_type": "code",
   "execution_count": 5,
   "id": "ebe7e6ce",
   "metadata": {},
   "outputs": [
    {
     "name": "stderr",
     "output_type": "stream",
     "text": [
      "/var/folders/qz/3wk97tbd5mjbmm3vjn79fhvm0000gn/T/ipykernel_57622/683448111.py:1: SettingWithCopyWarning:\n",
      "\n",
      "\n",
      "A value is trying to be set on a copy of a slice from a DataFrame.\n",
      "Try using .loc[row_indexer,col_indexer] = value instead\n",
      "\n",
      "See the caveats in the documentation: https://pandas.pydata.org/pandas-docs/stable/user_guide/indexing.html#returning-a-view-versus-a-copy\n",
      "\n"
     ]
    },
    {
     "data": {
      "text/html": [
       "<div>\n",
       "<style scoped>\n",
       "    .dataframe tbody tr th:only-of-type {\n",
       "        vertical-align: middle;\n",
       "    }\n",
       "\n",
       "    .dataframe tbody tr th {\n",
       "        vertical-align: top;\n",
       "    }\n",
       "\n",
       "    .dataframe thead th {\n",
       "        text-align: right;\n",
       "    }\n",
       "</style>\n",
       "<table border=\"1\" class=\"dataframe\">\n",
       "  <thead>\n",
       "    <tr style=\"text-align: right;\">\n",
       "      <th></th>\n",
       "      <th>NO3.4</th>\n",
       "    </tr>\n",
       "    <tr>\n",
       "      <th>Fecha</th>\n",
       "      <th></th>\n",
       "    </tr>\n",
       "  </thead>\n",
       "  <tbody>\n",
       "    <tr>\n",
       "      <th>1982-01-01</th>\n",
       "      <td>26.65</td>\n",
       "    </tr>\n",
       "    <tr>\n",
       "      <th>1982-02-01</th>\n",
       "      <td>26.54</td>\n",
       "    </tr>\n",
       "    <tr>\n",
       "      <th>1982-03-01</th>\n",
       "      <td>27.09</td>\n",
       "    </tr>\n",
       "    <tr>\n",
       "      <th>1982-04-01</th>\n",
       "      <td>27.83</td>\n",
       "    </tr>\n",
       "    <tr>\n",
       "      <th>1982-05-01</th>\n",
       "      <td>28.37</td>\n",
       "    </tr>\n",
       "    <tr>\n",
       "      <th>...</th>\n",
       "      <td>...</td>\n",
       "    </tr>\n",
       "    <tr>\n",
       "      <th>2022-12-01</th>\n",
       "      <td>25.81</td>\n",
       "    </tr>\n",
       "    <tr>\n",
       "      <th>2023-01-01</th>\n",
       "      <td>25.88</td>\n",
       "    </tr>\n",
       "    <tr>\n",
       "      <th>2023-02-01</th>\n",
       "      <td>26.29</td>\n",
       "    </tr>\n",
       "    <tr>\n",
       "      <th>2023-03-01</th>\n",
       "      <td>27.23</td>\n",
       "    </tr>\n",
       "    <tr>\n",
       "      <th>2023-04-01</th>\n",
       "      <td>27.99</td>\n",
       "    </tr>\n",
       "  </tbody>\n",
       "</table>\n",
       "<p>496 rows × 1 columns</p>\n",
       "</div>"
      ],
      "text/plain": [
       "            NO3.4\n",
       "Fecha            \n",
       "1982-01-01  26.65\n",
       "1982-02-01  26.54\n",
       "1982-03-01  27.09\n",
       "1982-04-01  27.83\n",
       "1982-05-01  28.37\n",
       "...           ...\n",
       "2022-12-01  25.81\n",
       "2023-01-01  25.88\n",
       "2023-02-01  26.29\n",
       "2023-03-01  27.23\n",
       "2023-04-01  27.99\n",
       "\n",
       "[496 rows x 1 columns]"
      ]
     },
     "execution_count": 5,
     "metadata": {},
     "output_type": "execute_result"
    }
   ],
   "source": [
    "dfNO3['Fecha'] = pd.to_datetime({'day' : 1,'month': dfNO3[\"ON  N\"],'year': dfNO3['YR M']}) # Juntar columnas dia, mes y año en formato datetime\n",
    "dfNO3.set_index('Fecha', inplace=True)\n",
    "dfNO3 = dfNO3.drop(columns = [\"ON  N\", 'YR M']) # Quitar columnas Mes y Año\n",
    "dfNO3"
   ]
  },
  {
   "cell_type": "code",
   "execution_count": 6,
   "id": "b3c19cd0",
   "metadata": {},
   "outputs": [
    {
     "data": {
      "text/html": [
       "<div>\n",
       "<style scoped>\n",
       "    .dataframe tbody tr th:only-of-type {\n",
       "        vertical-align: middle;\n",
       "    }\n",
       "\n",
       "    .dataframe tbody tr th {\n",
       "        vertical-align: top;\n",
       "    }\n",
       "\n",
       "    .dataframe thead th {\n",
       "        text-align: right;\n",
       "    }\n",
       "</style>\n",
       "<table border=\"1\" class=\"dataframe\">\n",
       "  <thead>\n",
       "    <tr style=\"text-align: right;\">\n",
       "      <th></th>\n",
       "      <th>NO3.4</th>\n",
       "    </tr>\n",
       "  </thead>\n",
       "  <tbody>\n",
       "    <tr>\n",
       "      <th>count</th>\n",
       "      <td>496.000000</td>\n",
       "    </tr>\n",
       "    <tr>\n",
       "      <th>mean</th>\n",
       "      <td>27.010464</td>\n",
       "    </tr>\n",
       "    <tr>\n",
       "      <th>std</th>\n",
       "      <td>0.942563</td>\n",
       "    </tr>\n",
       "    <tr>\n",
       "      <th>min</th>\n",
       "      <td>24.560000</td>\n",
       "    </tr>\n",
       "    <tr>\n",
       "      <th>25%</th>\n",
       "      <td>26.337500</td>\n",
       "    </tr>\n",
       "    <tr>\n",
       "      <th>50%</th>\n",
       "      <td>27.050000</td>\n",
       "    </tr>\n",
       "    <tr>\n",
       "      <th>75%</th>\n",
       "      <td>27.682500</td>\n",
       "    </tr>\n",
       "    <tr>\n",
       "      <th>max</th>\n",
       "      <td>29.540000</td>\n",
       "    </tr>\n",
       "  </tbody>\n",
       "</table>\n",
       "</div>"
      ],
      "text/plain": [
       "            NO3.4\n",
       "count  496.000000\n",
       "mean    27.010464\n",
       "std      0.942563\n",
       "min     24.560000\n",
       "25%     26.337500\n",
       "50%     27.050000\n",
       "75%     27.682500\n",
       "max     29.540000"
      ]
     },
     "execution_count": 6,
     "metadata": {},
     "output_type": "execute_result"
    }
   ],
   "source": [
    "leng = len(dfNO3)\n",
    "dfNO3.describe()"
   ]
  },
  {
   "cell_type": "markdown",
   "id": "89e41d0f",
   "metadata": {},
   "source": [
    "# Preprocesado de los datos"
   ]
  },
  {
   "cell_type": "code",
   "execution_count": 7,
   "id": "a195f4c8",
   "metadata": {},
   "outputs": [
    {
     "data": {
      "text/html": [
       "<div>\n",
       "<style scoped>\n",
       "    .dataframe tbody tr th:only-of-type {\n",
       "        vertical-align: middle;\n",
       "    }\n",
       "\n",
       "    .dataframe tbody tr th {\n",
       "        vertical-align: top;\n",
       "    }\n",
       "\n",
       "    .dataframe thead th {\n",
       "        text-align: right;\n",
       "    }\n",
       "</style>\n",
       "<table border=\"1\" class=\"dataframe\">\n",
       "  <thead>\n",
       "    <tr style=\"text-align: right;\">\n",
       "      <th></th>\n",
       "      <th>var1(t-12)</th>\n",
       "      <th>var1(t-11)</th>\n",
       "      <th>var1(t-10)</th>\n",
       "      <th>var1(t-9)</th>\n",
       "      <th>var1(t-8)</th>\n",
       "      <th>var1(t-7)</th>\n",
       "      <th>var1(t-6)</th>\n",
       "      <th>var1(t-5)</th>\n",
       "      <th>var1(t-4)</th>\n",
       "      <th>var1(t-3)</th>\n",
       "      <th>var1(t-2)</th>\n",
       "      <th>var1(t-1)</th>\n",
       "      <th>var1(t)</th>\n",
       "    </tr>\n",
       "  </thead>\n",
       "  <tbody>\n",
       "    <tr>\n",
       "      <th>12</th>\n",
       "      <td>-0.160643</td>\n",
       "      <td>-0.204819</td>\n",
       "      <td>0.016064</td>\n",
       "      <td>0.313253</td>\n",
       "      <td>0.530120</td>\n",
       "      <td>0.522088</td>\n",
       "      <td>0.208835</td>\n",
       "      <td>0.285141</td>\n",
       "      <td>0.385542</td>\n",
       "      <td>0.582329</td>\n",
       "      <td>0.582329</td>\n",
       "      <td>0.722892</td>\n",
       "      <td>0.662651</td>\n",
       "    </tr>\n",
       "    <tr>\n",
       "      <th>13</th>\n",
       "      <td>-0.204819</td>\n",
       "      <td>0.016064</td>\n",
       "      <td>0.313253</td>\n",
       "      <td>0.530120</td>\n",
       "      <td>0.522088</td>\n",
       "      <td>0.208835</td>\n",
       "      <td>0.285141</td>\n",
       "      <td>0.385542</td>\n",
       "      <td>0.582329</td>\n",
       "      <td>0.582329</td>\n",
       "      <td>0.722892</td>\n",
       "      <td>0.662651</td>\n",
       "      <td>0.598394</td>\n",
       "    </tr>\n",
       "    <tr>\n",
       "      <th>14</th>\n",
       "      <td>0.016064</td>\n",
       "      <td>0.313253</td>\n",
       "      <td>0.530120</td>\n",
       "      <td>0.522088</td>\n",
       "      <td>0.208835</td>\n",
       "      <td>0.285141</td>\n",
       "      <td>0.385542</td>\n",
       "      <td>0.582329</td>\n",
       "      <td>0.582329</td>\n",
       "      <td>0.722892</td>\n",
       "      <td>0.662651</td>\n",
       "      <td>0.598394</td>\n",
       "      <td>0.562249</td>\n",
       "    </tr>\n",
       "    <tr>\n",
       "      <th>15</th>\n",
       "      <td>0.313253</td>\n",
       "      <td>0.530120</td>\n",
       "      <td>0.522088</td>\n",
       "      <td>0.208835</td>\n",
       "      <td>0.285141</td>\n",
       "      <td>0.385542</td>\n",
       "      <td>0.582329</td>\n",
       "      <td>0.582329</td>\n",
       "      <td>0.722892</td>\n",
       "      <td>0.662651</td>\n",
       "      <td>0.598394</td>\n",
       "      <td>0.562249</td>\n",
       "      <td>0.578313</td>\n",
       "    </tr>\n",
       "    <tr>\n",
       "      <th>16</th>\n",
       "      <td>0.530120</td>\n",
       "      <td>0.522088</td>\n",
       "      <td>0.208835</td>\n",
       "      <td>0.285141</td>\n",
       "      <td>0.385542</td>\n",
       "      <td>0.582329</td>\n",
       "      <td>0.582329</td>\n",
       "      <td>0.722892</td>\n",
       "      <td>0.662651</td>\n",
       "      <td>0.598394</td>\n",
       "      <td>0.562249</td>\n",
       "      <td>0.578313</td>\n",
       "      <td>0.606426</td>\n",
       "    </tr>\n",
       "  </tbody>\n",
       "</table>\n",
       "</div>"
      ],
      "text/plain": [
       "    var1(t-12)  var1(t-11)  var1(t-10)  var1(t-9)  var1(t-8)  var1(t-7)  \\\n",
       "12   -0.160643   -0.204819    0.016064   0.313253   0.530120   0.522088   \n",
       "13   -0.204819    0.016064    0.313253   0.530120   0.522088   0.208835   \n",
       "14    0.016064    0.313253    0.530120   0.522088   0.208835   0.285141   \n",
       "15    0.313253    0.530120    0.522088   0.208835   0.285141   0.385542   \n",
       "16    0.530120    0.522088    0.208835   0.285141   0.385542   0.582329   \n",
       "\n",
       "    var1(t-6)  var1(t-5)  var1(t-4)  var1(t-3)  var1(t-2)  var1(t-1)   var1(t)  \n",
       "12   0.208835   0.285141   0.385542   0.582329   0.582329   0.722892  0.662651  \n",
       "13   0.285141   0.385542   0.582329   0.582329   0.722892   0.662651  0.598394  \n",
       "14   0.385542   0.582329   0.582329   0.722892   0.662651   0.598394  0.562249  \n",
       "15   0.582329   0.582329   0.722892   0.662651   0.598394   0.562249  0.578313  \n",
       "16   0.582329   0.722892   0.662651   0.598394   0.562249   0.578313  0.606426  "
      ]
     },
     "execution_count": 7,
     "metadata": {},
     "output_type": "execute_result"
    }
   ],
   "source": [
    "PASOS= 12\n",
    "salida = 1\n",
    "\n",
    "# convert series to supervised learning\n",
    "def series_to_supervised(data, n_in=1, n_out=1, dropnan=True):\n",
    "    n_vars = 1 if type(data) is list else data.shape[1]\n",
    "    df = pd.DataFrame(data)\n",
    "    cols, names = list(), list()\n",
    "    # input sequence (t-n, ... t-1)\n",
    "    for i in range(n_in, 0, -1):\n",
    "        cols.append(df.shift(i))\n",
    "        names += [('var%d(t-%d)' % (j+1, i)) for j in range(n_vars)]\n",
    "    # forecast sequence (t, t+1, ... t+n)\n",
    "    for i in range(0, n_out):\n",
    "        cols.append(df.shift(-i))\n",
    "        if i == 0:\n",
    "            names += [('var%d(t)' % (j+1)) for j in range(n_vars)]\n",
    "        else:\n",
    "            names += [('var%d(t+%d)' % (j+1, i)) for j in range(n_vars)]\n",
    "    # put it all together\n",
    "    agg = pd.concat(cols, axis=1)\n",
    "    agg.columns = names\n",
    "    # drop rows with NaN values\n",
    "    if dropnan:\n",
    "        agg.dropna(inplace=True)\n",
    "    return agg\n",
    " \n",
    "# dataset\n",
    "values = dfNO3.values\n",
    "# Normalizar valores\n",
    "scaler = MinMaxScaler(feature_range=(-1, 1))\n",
    "scaled = scaler.fit_transform(values)\n",
    "\n",
    "# dataframe a aprendizaje supervisado \n",
    "reframed = series_to_supervised(scaled, PASOS, salida)\n",
    "reframed.head()\n",
    "\n",
    "# Valores de entrada X desde var1(t-12)-var1(t-1)\n",
    "# Valores de salida Y var1(t)"
   ]
  },
  {
   "cell_type": "markdown",
   "id": "4ed36ed8",
   "metadata": {},
   "source": [
    "# Dividimos en set de Entrenamiento y Validación"
   ]
  },
  {
   "cell_type": "code",
   "execution_count": 8,
   "id": "a7b2e55e",
   "metadata": {},
   "outputs": [
    {
     "name": "stdout",
     "output_type": "stream",
     "text": [
      "(404, 1, 12) (404,) (80, 1, 12) (80,)\n"
     ]
    }
   ],
   "source": [
    "# Dividir en entrenamiento y testeo\n",
    "values = reframed.values\n",
    "n_train_days = leng- (80+PASOS)\n",
    "train = values[:n_train_days, :]\n",
    "test = values[n_train_days:, :]\n",
    "# Input y Output\n",
    "x_train, y_train = train[:, :-1], train[:, -1]\n",
    "x_val, y_val = test[:, :-1], test[:, -1]\n",
    "\n",
    "x_train = x_train.reshape((x_train.shape[0], 1, x_train.shape[1]))\n",
    "x_val = x_val.reshape((x_val.shape[0], 1, x_val.shape[1]))\n",
    "print(x_train.shape, y_train.shape, x_val.shape, y_val.shape)\n",
    "\n",
    "# 454 entradas con vectores de 1x12\n",
    "# 454 salidas"
   ]
  },
  {
   "cell_type": "markdown",
   "id": "6ded8635",
   "metadata": {},
   "source": [
    "# Creamos el Modelo de Red Neuronal\n",
    "Utilizaremos una FNN"
   ]
  },
  {
   "cell_type": "code",
   "execution_count": 9,
   "id": "300aa619",
   "metadata": {},
   "outputs": [],
   "source": [
    "def crear_modeloFF():\n",
    "    model = Sequential() \n",
    "    model.add(Dense(PASOS, input_shape=(1,PASOS+salida-1),activation='tanh'))\n",
    "    model.add(Flatten())\n",
    "    model.add(Dense(1, activation='tanh'))\n",
    "    model.compile(loss='mean_absolute_error',optimizer='Adam',metrics=[\"mse\"])\n",
    "    model.summary()\n",
    "    return model"
   ]
  },
  {
   "cell_type": "code",
   "execution_count": 10,
   "id": "05f3ebdd",
   "metadata": {},
   "outputs": [
    {
     "name": "stdout",
     "output_type": "stream",
     "text": [
      "Model: \"sequential\"\n",
      "_________________________________________________________________\n",
      " Layer (type)                Output Shape              Param #   \n",
      "=================================================================\n",
      " dense (Dense)               (None, 1, 12)             156       \n",
      "                                                                 \n",
      " flatten (Flatten)           (None, 12)                0         \n",
      "                                                                 \n",
      " dense_1 (Dense)             (None, 1)                 13        \n",
      "                                                                 \n",
      "=================================================================\n",
      "Total params: 169\n",
      "Trainable params: 169\n",
      "Non-trainable params: 0\n",
      "_________________________________________________________________\n",
      "Epoch 1/15\n",
      "34/34 [==============================] - 1s 13ms/step - loss: 0.2989 - mse: 0.1460 - val_loss: 0.2841 - val_mse: 0.1171\n",
      "Epoch 2/15\n",
      "34/34 [==============================] - 0s 4ms/step - loss: 0.2493 - mse: 0.0942 - val_loss: 0.2319 - val_mse: 0.0812\n",
      "Epoch 3/15\n",
      "34/34 [==============================] - 0s 3ms/step - loss: 0.2239 - mse: 0.0776 - val_loss: 0.2026 - val_mse: 0.0630\n",
      "Epoch 4/15\n",
      "34/34 [==============================] - 0s 3ms/step - loss: 0.2049 - mse: 0.0629 - val_loss: 0.1793 - val_mse: 0.0498\n",
      "Epoch 5/15\n",
      "34/34 [==============================] - 0s 3ms/step - loss: 0.1885 - mse: 0.0529 - val_loss: 0.1692 - val_mse: 0.0437\n",
      "Epoch 6/15\n",
      "34/34 [==============================] - 0s 6ms/step - loss: 0.1754 - mse: 0.0464 - val_loss: 0.1563 - val_mse: 0.0372\n",
      "Epoch 7/15\n",
      "34/34 [==============================] - 0s 4ms/step - loss: 0.1628 - mse: 0.0409 - val_loss: 0.1489 - val_mse: 0.0336\n",
      "Epoch 8/15\n",
      "34/34 [==============================] - 0s 3ms/step - loss: 0.1525 - mse: 0.0349 - val_loss: 0.1358 - val_mse: 0.0281\n",
      "Epoch 9/15\n",
      "34/34 [==============================] - 0s 4ms/step - loss: 0.1413 - mse: 0.0308 - val_loss: 0.1261 - val_mse: 0.0251\n",
      "Epoch 10/15\n",
      "34/34 [==============================] - 0s 4ms/step - loss: 0.1319 - mse: 0.0267 - val_loss: 0.1161 - val_mse: 0.0211\n",
      "Epoch 11/15\n",
      "34/34 [==============================] - 0s 3ms/step - loss: 0.1244 - mse: 0.0241 - val_loss: 0.1135 - val_mse: 0.0201\n",
      "Epoch 12/15\n",
      "34/34 [==============================] - 0s 3ms/step - loss: 0.1167 - mse: 0.0218 - val_loss: 0.1044 - val_mse: 0.0181\n",
      "Epoch 13/15\n",
      "34/34 [==============================] - 0s 3ms/step - loss: 0.1107 - mse: 0.0198 - val_loss: 0.0993 - val_mse: 0.0166\n",
      "Epoch 14/15\n",
      "34/34 [==============================] - 0s 4ms/step - loss: 0.1057 - mse: 0.0185 - val_loss: 0.0959 - val_mse: 0.0156\n",
      "Epoch 15/15\n",
      "34/34 [==============================] - 0s 5ms/step - loss: 0.1021 - mse: 0.0173 - val_loss: 0.0912 - val_mse: 0.0145\n"
     ]
    }
   ],
   "source": [
    "EPOCHS=15\n",
    "\n",
    "model = crear_modeloFF()\n",
    "\n",
    "\n",
    "history=model.fit(x_train,y_train,epochs=EPOCHS,validation_data=(x_val,y_val),batch_size=PASOS)"
   ]
  },
  {
   "cell_type": "code",
   "execution_count": 11,
   "id": "05421369",
   "metadata": {},
   "outputs": [
    {
     "data": {
      "image/png": "[encoded data removed]",
      "text/plain": [
       "<Figure size 1152x648 with 1 Axes>"
      ]
     },
     "metadata": {
      "needs_background": "light"
     },
     "output_type": "display_data"
    }
   ],
   "source": [
    "plt.plot(history.history['loss'],label='Training Loss')\n",
    "plt.plot(history.history['val_loss'],label='Validation Loss')\n",
    "plt.title('loss')\n",
    "plt.legend()\n",
    "plt.show()"
   ]
  },
  {
   "cell_type": "code",
   "execution_count": 18,
   "id": "5d194a10",
   "metadata": {},
   "outputs": [
    {
     "data": {
      "image/png": "[encoded data removed]",
      "text/plain": [
       "<Figure size 1152x648 with 1 Axes>"
      ]
     },
     "metadata": {
      "needs_background": "light"
     },
     "output_type": "display_data"
    }
   ],
   "source": [
    "plt.title('Accuracy')\n",
    "plt.plot(history.history['mse'])\n",
    "plt.show()"
   ]
  },
  {
   "cell_type": "code",
   "execution_count": 13,
   "id": "3d0d3ca6",
   "metadata": {},
   "outputs": [
    {
     "name": "stdout",
     "output_type": "stream",
     "text": [
      "3/3 [==============================] - 0s 3ms/step\n"
     ]
    },
    {
     "data": {
      "text/html": [
       "<div>\n",
       "<style scoped>\n",
       "    .dataframe tbody tr th:only-of-type {\n",
       "        vertical-align: middle;\n",
       "    }\n",
       "\n",
       "    .dataframe tbody tr th {\n",
       "        vertical-align: top;\n",
       "    }\n",
       "\n",
       "    .dataframe thead th {\n",
       "        text-align: right;\n",
       "    }\n",
       "</style>\n",
       "<table border=\"1\" class=\"dataframe\">\n",
       "  <thead>\n",
       "    <tr style=\"text-align: right;\">\n",
       "      <th></th>\n",
       "      <th>real</th>\n",
       "      <th>prediccion</th>\n",
       "      <th>diferencia</th>\n",
       "    </tr>\n",
       "  </thead>\n",
       "  <tbody>\n",
       "    <tr>\n",
       "      <th>0</th>\n",
       "      <td>26.34</td>\n",
       "      <td>26.467485</td>\n",
       "      <td>-0.127485</td>\n",
       "    </tr>\n",
       "    <tr>\n",
       "      <th>1</th>\n",
       "      <td>26.07</td>\n",
       "      <td>26.476974</td>\n",
       "      <td>-0.406974</td>\n",
       "    </tr>\n",
       "    <tr>\n",
       "      <th>2</th>\n",
       "      <td>26.18</td>\n",
       "      <td>26.240000</td>\n",
       "      <td>-0.060000</td>\n",
       "    </tr>\n",
       "    <tr>\n",
       "      <th>3</th>\n",
       "      <td>26.31</td>\n",
       "      <td>26.238156</td>\n",
       "      <td>0.071844</td>\n",
       "    </tr>\n",
       "    <tr>\n",
       "      <th>4</th>\n",
       "      <td>26.30</td>\n",
       "      <td>26.486485</td>\n",
       "      <td>-0.186485</td>\n",
       "    </tr>\n",
       "    <tr>\n",
       "      <th>...</th>\n",
       "      <td>...</td>\n",
       "      <td>...</td>\n",
       "      <td>...</td>\n",
       "    </tr>\n",
       "    <tr>\n",
       "      <th>75</th>\n",
       "      <td>25.81</td>\n",
       "      <td>25.994293</td>\n",
       "      <td>-0.184293</td>\n",
       "    </tr>\n",
       "    <tr>\n",
       "      <th>76</th>\n",
       "      <td>25.88</td>\n",
       "      <td>25.927091</td>\n",
       "      <td>-0.047091</td>\n",
       "    </tr>\n",
       "    <tr>\n",
       "      <th>77</th>\n",
       "      <td>26.29</td>\n",
       "      <td>26.111954</td>\n",
       "      <td>0.178046</td>\n",
       "    </tr>\n",
       "    <tr>\n",
       "      <th>78</th>\n",
       "      <td>27.23</td>\n",
       "      <td>26.505188</td>\n",
       "      <td>0.724812</td>\n",
       "    </tr>\n",
       "    <tr>\n",
       "      <th>79</th>\n",
       "      <td>27.99</td>\n",
       "      <td>27.661828</td>\n",
       "      <td>0.328172</td>\n",
       "    </tr>\n",
       "  </tbody>\n",
       "</table>\n",
       "<p>80 rows × 3 columns</p>\n",
       "</div>"
      ],
      "text/plain": [
       "     real  prediccion  diferencia\n",
       "0   26.34   26.467485   -0.127485\n",
       "1   26.07   26.476974   -0.406974\n",
       "2   26.18   26.240000   -0.060000\n",
       "3   26.31   26.238156    0.071844\n",
       "4   26.30   26.486485   -0.186485\n",
       "..    ...         ...         ...\n",
       "75  25.81   25.994293   -0.184293\n",
       "76  25.88   25.927091   -0.047091\n",
       "77  26.29   26.111954    0.178046\n",
       "78  27.23   26.505188    0.724812\n",
       "79  27.99   27.661828    0.328172\n",
       "\n",
       "[80 rows x 3 columns]"
      ]
     },
     "execution_count": 13,
     "metadata": {},
     "output_type": "execute_result"
    }
   ],
   "source": [
    "results=model.predict(x_val)\n",
    "compara = pd.DataFrame(np.array([y_val, [x[0] for x in results]])).transpose()\n",
    "compara.columns = ['real', 'prediccion']\n",
    "\n",
    "inverted = scaler.inverse_transform(compara.values)\n",
    "\n",
    "compara2 = pd.DataFrame(inverted)\n",
    "compara2.columns = ['real', 'prediccion']\n",
    "compara2['diferencia'] = compara2['real'] - compara2['prediccion']\n",
    "compara2"
   ]
  },
  {
   "cell_type": "code",
   "execution_count": 14,
   "id": "98ff4d97",
   "metadata": {},
   "outputs": [
    {
     "data": {
      "text/html": [
       "<div>\n",
       "<style scoped>\n",
       "    .dataframe tbody tr th:only-of-type {\n",
       "        vertical-align: middle;\n",
       "    }\n",
       "\n",
       "    .dataframe tbody tr th {\n",
       "        vertical-align: top;\n",
       "    }\n",
       "\n",
       "    .dataframe thead th {\n",
       "        text-align: right;\n",
       "    }\n",
       "</style>\n",
       "<table border=\"1\" class=\"dataframe\">\n",
       "  <thead>\n",
       "    <tr style=\"text-align: right;\">\n",
       "      <th></th>\n",
       "      <th>real</th>\n",
       "      <th>prediccion</th>\n",
       "      <th>diferencia</th>\n",
       "    </tr>\n",
       "  </thead>\n",
       "  <tbody>\n",
       "    <tr>\n",
       "      <th>count</th>\n",
       "      <td>80.000000</td>\n",
       "      <td>80.000000</td>\n",
       "      <td>80.000000</td>\n",
       "    </tr>\n",
       "    <tr>\n",
       "      <th>mean</th>\n",
       "      <td>26.862000</td>\n",
       "      <td>26.847777</td>\n",
       "      <td>0.014223</td>\n",
       "    </tr>\n",
       "    <tr>\n",
       "      <th>std</th>\n",
       "      <td>0.829921</td>\n",
       "      <td>0.795884</td>\n",
       "      <td>0.301450</td>\n",
       "    </tr>\n",
       "    <tr>\n",
       "      <th>min</th>\n",
       "      <td>25.590000</td>\n",
       "      <td>25.629564</td>\n",
       "      <td>-0.761979</td>\n",
       "    </tr>\n",
       "    <tr>\n",
       "      <th>25%</th>\n",
       "      <td>26.067500</td>\n",
       "      <td>26.146957</td>\n",
       "      <td>-0.173519</td>\n",
       "    </tr>\n",
       "    <tr>\n",
       "      <th>50%</th>\n",
       "      <td>26.850000</td>\n",
       "      <td>26.844667</td>\n",
       "      <td>-0.005861</td>\n",
       "    </tr>\n",
       "    <tr>\n",
       "      <th>75%</th>\n",
       "      <td>27.525000</td>\n",
       "      <td>27.550545</td>\n",
       "      <td>0.163119</td>\n",
       "    </tr>\n",
       "    <tr>\n",
       "      <th>max</th>\n",
       "      <td>28.630000</td>\n",
       "      <td>28.598291</td>\n",
       "      <td>0.852171</td>\n",
       "    </tr>\n",
       "  </tbody>\n",
       "</table>\n",
       "</div>"
      ],
      "text/plain": [
       "            real  prediccion  diferencia\n",
       "count  80.000000   80.000000   80.000000\n",
       "mean   26.862000   26.847777    0.014223\n",
       "std     0.829921    0.795884    0.301450\n",
       "min    25.590000   25.629564   -0.761979\n",
       "25%    26.067500   26.146957   -0.173519\n",
       "50%    26.850000   26.844667   -0.005861\n",
       "75%    27.525000   27.550545    0.163119\n",
       "max    28.630000   28.598291    0.852171"
      ]
     },
     "execution_count": 14,
     "metadata": {},
     "output_type": "execute_result"
    }
   ],
   "source": [
    "compara2.describe()"
   ]
  },
  {
   "cell_type": "code",
   "execution_count": 15,
   "id": "cb6ed10c",
   "metadata": {},
   "outputs": [
    {
     "data": {
      "text/plain": [
       "<AxesSubplot:>"
      ]
     },
     "execution_count": 15,
     "metadata": {},
     "output_type": "execute_result"
    },
    {
     "data": {
      "image/png": "[encoded data removed]",
      "text/plain": [
       "<Figure size 1152x648 with 1 Axes>"
      ]
     },
     "metadata": {
      "needs_background": "light"
     },
     "output_type": "display_data"
    }
   ],
   "source": [
    "compara2['real'].plot()\n",
    "compara2['prediccion'].plot()"
   ]
  },
  {
   "cell_type": "code",
   "execution_count": 16,
   "id": "477cce60",
   "metadata": {},
   "outputs": [],
   "source": [
    "xtrain = dfNO3.iloc[:n_train_days, :]\n",
    "xtest = dfNO3.iloc[n_train_days:, :]"
   ]
  },
  {
   "cell_type": "code",
   "execution_count": 17,
   "id": "3a9e0010",
   "metadata": {},
   "outputs": [],
   "source": [
    "fig = go.Figure()\n",
    "fig.add_trace(go.Scatter(x= xtrain.index, y=xtrain['NO3.4'], mode='lines', name='Datos de entrenamiento'))\n",
    "fig.add_trace(go.Scatter(x= xtest.index, y=compara2['real'], mode='lines', name='Datos reales'))\n",
    "fig.add_trace(go.Scatter(x= xtest.index, y=compara2['prediccion'], mode='lines', name='Predicciones Red Neuronal'))\n",
    "fig.show()"
   ]
  },
  {
   "cell_type": "code",
   "execution_count": null,
   "id": "34b14bb8",
   "metadata": {},
   "outputs": [],
   "source": []
  }
 ],
 "metadata": {
  "kernelspec": {
   "display_name": "Python 3 (ipykernel)",
   "language": "python",
   "name": "python3"
  },
  "language_info": {
   "codemirror_mode": {
    "name": "ipython",
    "version": 3
   },
   "file_extension": ".py",
   "mimetype": "text/x-python",
   "name": "python",
   "nbconvert_exporter": "python",
   "pygments_lexer": "ipython3",
   "version": "3.9.7"
  }
 },
 "nbformat": 4,
 "nbformat_minor": 5
}
